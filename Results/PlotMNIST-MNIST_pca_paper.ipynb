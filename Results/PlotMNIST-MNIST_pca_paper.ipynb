{
 "cells": [
  {
   "cell_type": "code",
   "execution_count": 1,
   "id": "f9972324",
   "metadata": {
    "colab": {
     "base_uri": "https://localhost:8080/"
    },
    "executionInfo": {
     "elapsed": 30833,
     "status": "ok",
     "timestamp": 1754240876705,
     "user": {
      "displayName": "Ph El",
      "userId": "05886334979663504919"
     },
     "user_tz": -120
    },
    "id": "f9972324",
    "outputId": "5eb4d15b-3f4f-4d83-ac9b-1b41eae48879"
   },
   "outputs": [
    {
     "name": "stdout",
     "output_type": "stream",
     "text": [
      "Mounted at /content/drive/\n",
      "/content/drive/.shortcut-targets-by-id/1b0U2fABpE8D898NvKTrvvqqusm1peAQH/ARC_heuristic/PlotsPaper\n"
     ]
    }
   ],
   "source": [
    "from google.colab import drive\n",
    "import os\n",
    "drive.mount('/content/drive/')\n",
    "os.chdir('/content/drive/MyDrive/ARC_heuristic/PlotsPaper/')\n",
    "print(os.getcwd())"
   ]
  },
  {
   "cell_type": "code",
   "execution_count": 6,
   "id": "7cc6be60",
   "metadata": {
    "colab": {
     "base_uri": "https://localhost:8080/"
    },
    "executionInfo": {
     "elapsed": 1692,
     "status": "ok",
     "timestamp": 1754241595689,
     "user": {
      "displayName": "Ph El",
      "userId": "05886334979663504919"
     },
     "user_tz": -120
    },
    "id": "7cc6be60",
    "outputId": "7de8901d-24ba-4da4-c2fb-769a6ebeb684"
   },
   "outputs": [
    {
     "name": "stdout",
     "output_type": "stream",
     "text": [
      "[0.5        0.70214114 0.72033112 0.74028929 0.75475086]\n"
     ]
    },
    {
     "data": {
      "image/png": "[encoded data removed]",
      "text/plain": [
       "<Figure size 336.672x226.267 with 1 Axes>"
      ]
     },
     "metadata": {
      "needs_background": "light"
     },
     "output_type": "display_data"
    }
   ],
   "source": [
    "import numpy as np\n",
    "import pylab as plt\n",
    "from matplotlib.ticker import MaxNLocator\n",
    "from matplotlib.legend_handler import HandlerTuple\n",
    "\n",
    "import matplotlib as mpl\n",
    "\n",
    "mpl.rcParams.update({'text.usetex':True,'font.size': 12, 'font.family': 'serif', 'font.serif': ['Times', 'Computer Modern']})\n",
    "\n",
    "\n",
    "#mnist pca\n",
    "path_file = 'Data_QNN/logLossMN/ACC_test.txt'\n",
    "ACC0 = np.genfromtxt(path_file,usecols=0,skip_header=1)\n",
    "ACC1 = np.genfromtxt(path_file,usecols=1,skip_header=1)\n",
    "ACC0 = np.array([0.5,*ACC0])\n",
    "ACC1 = np.array([0.5,*ACC1])\n",
    "ACCaverLogMnistPCA = (ACC0+ACC1)*0.5\n",
    "gatesLogMnistPCA=np.linspace(0,len(ACCaverLogMnistPCA)-1,len(ACCaverLogMnistPCA))\n",
    "evalLogMnistPCA = gatesLogMnistPCA*2\n",
    "\n",
    "#mnist 0,1 7x7\n",
    "path_file = 'Data_QNN/logLossMN_noPCA/ACC_test_0_1_7x7_N_1000.txt'\n",
    "ACC0 = np.genfromtxt(path_file,usecols=0,skip_header=1)\n",
    "ACC1 = np.genfromtxt(path_file,usecols=1,skip_header=1)\n",
    "ACC0 = np.array([0.5,*ACC0])\n",
    "ACC1 = np.array([0.5,*ACC1])\n",
    "ACCaverLogMnist01 = (ACC0+ACC1)*0.5\n",
    "gatesLogMnist01=np.linspace(0,len(ACCaverLogMnist01)-1,len(ACCaverLogMnist01))\n",
    "evalLogMnist01 = gatesLogMnist01*2\n",
    "\n",
    "#mnist 0,1 14x14\n",
    "path_file = 'Data_QNN/logLossMN_noPCA/ACC_test_0_1_14x14_N_1000.txt'\n",
    "ACC0 = np.genfromtxt(path_file,usecols=0,skip_header=1)\n",
    "ACC1 = np.genfromtxt(path_file,usecols=1,skip_header=1)\n",
    "ACC0 = np.array([0.5,*ACC0])\n",
    "ACC1 = np.array([0.5,*ACC1])\n",
    "ACCaverLogMnist01_14 = (ACC0+ACC1)*0.5\n",
    "gatesLogMnist01_14=np.linspace(0,len(ACCaverLogMnist01_14)-1,len(ACCaverLogMnist01_14))\n",
    "evalLogMnist01_14 = gatesLogMnist01_14*2\n",
    "\n",
    "#mnist 0,1 28x28\n",
    "path_file = 'Data_QNN/logLossMN_noPCA/ACC_test_0_1_28x28_N_1000.txt'\n",
    "ACC0 = np.genfromtxt(path_file,usecols=0,skip_header=1)\n",
    "ACC1 = np.genfromtxt(path_file,usecols=1,skip_header=1)\n",
    "ACC0 = np.array([0.5,*ACC0])\n",
    "ACC1 = np.array([0.5,*ACC1])\n",
    "ACCaverLogMnist01_28 = (ACC0+ACC1)*0.5\n",
    "gatesLogMnist01_28=np.linspace(0,len(ACCaverLogMnist01_28)-1,len(ACCaverLogMnist01_28))\n",
    "evalLogMnist01_28 = gatesLogMnist01_28*2\n",
    "\n",
    "#mnist 3,5 7x7\n",
    "path_file = 'Data_QNN/logLossMN_noPCA/ACC_test_3_5_7x7_N_1000.txt'\n",
    "ACC0 = np.genfromtxt(path_file,usecols=0,skip_header=1)\n",
    "ACC1 = np.genfromtxt(path_file,usecols=1,skip_header=1)\n",
    "ACC0 = np.array([0.5,*ACC0])\n",
    "ACC1 = np.array([0.5,*ACC1])\n",
    "ACCaverLogMnist35_7 = (ACC0+ACC1)*0.5\n",
    "gatesLogMnist35_7=np.linspace(0,len(ACCaverLogMnist35_7)-1,len(ACCaverLogMnist35_7))\n",
    "evalLogMnist35_7 = gatesLogMnist35_7*2\n",
    "\n",
    "#mnist 3,5 14x14\n",
    "path_file = 'Data_QNN/logLossMN_noPCA/ACC_test_3_5_14x14_N_1000.txt'\n",
    "ACC0 = np.genfromtxt(path_file,usecols=0,skip_header=1)\n",
    "ACC1 = np.genfromtxt(path_file,usecols=1,skip_header=1)\n",
    "ACC0 = np.array([0.5,*ACC0])\n",
    "ACC1 = np.array([0.5,*ACC1])\n",
    "ACCaverLogMnist35_14 = (ACC0+ACC1)*0.5\n",
    "gatesLogMnist35_14=np.linspace(0,len(ACCaverLogMnist35_14)-1,len(ACCaverLogMnist35_14))\n",
    "evalLogMnist35_14 = gatesLogMnist35_14*2\n",
    "\n",
    "#mnist 3,5 28x28\n",
    "path_file = 'Data_QNN/logLossMN_noPCA/ACC_test_3_5_28x28_N_1000.txt'\n",
    "ACC0 = np.genfromtxt(path_file,usecols=0,skip_header=1)\n",
    "ACC1 = np.genfromtxt(path_file,usecols=1,skip_header=1)\n",
    "ACC0 = np.array([0.5,*ACC0])\n",
    "ACC1 = np.array([0.5,*ACC1])\n",
    "ACCaverLogMnist35_28 = (ACC0+ACC1)*0.5\n",
    "gatesLogMnist35_28=np.linspace(0,len(ACCaverLogMnist35_28)-1,len(ACCaverLogMnist35_28))\n",
    "evalLogMnist35_28 = gatesLogMnist35_28*2\n",
    "\n",
    "\n",
    "def readRandom(nfiles,features,pathFile):\n",
    "\tACCrand = []\n",
    "\tfor i in range(nfiles):\n",
    "\t\tpath_file = f'{pathFile}{i+1}.txt'\n",
    "\t\tACC0 = np.genfromtxt(path_file,usecols=0,skip_header=1)\n",
    "\t\tACC1 = np.genfromtxt(path_file,usecols=1,skip_header=1)\n",
    "\t\tif len(ACC0)<20: pass\n",
    "\t\telse:\n",
    "\t\t\tACC0 = ACC0[:20]\n",
    "\t\t\tACC1 = ACC1[:20]\n",
    "\t\t\tACC0 = np.array([0.5,*ACC0])\n",
    "\t\t\tACC1 = np.array([0.5,*ACC1])\n",
    "\t\t\tACCrand.append((ACC0+ACC1)*0.5)\n",
    "\tACCrand_aver = np.zeros(len(ACCrand[0]))\n",
    "\tfor i in range(len(ACCrand)):\n",
    "\t\tACCrand_aver+=ACCrand[i]/len(ACCrand)\n",
    "\tACCrand_err = np.zeros(len(ACCrand[0]))\n",
    "\tfor i in range(len(ACCrand)):\n",
    "\t\tACCrand_err+=(ACCrand[i]-ACCrand_aver)**2/(len(ACCrand)-1)\n",
    "\tACCrand_err = np.sqrt(ACCrand_err)\n",
    "\tgates=np.linspace(0,len(ACCrand_aver)-1,len(ACCrand_aver))\n",
    "\tevaluations  = gates*(features**2+1)\n",
    "\treturn [ACCrand_aver,ACCrand_err,gates,evaluations]\n",
    "#random param\n",
    "ACC7rand_aver,ACC7rand_err,gates7,eval7 = readRandom(5,7,\n",
    "\t'Data_QNN/logLossMN_noPCA_randomParam/ACC_test_3_5_7x7_N_1000_seed')\n",
    "ACC14rand_aver,ACC14rand_err,gates14,eval14 = readRandom(5,14,\n",
    "\t'Data_QNN/logLossMN_noPCA_randomParam/ACC_test_3_5_14x14_N_1000_seed')\n",
    "ACC28rand_aver,ACC28rand_err,gates28,eval28 = readRandom(5,28,\n",
    "\t'Data_QNN/logLossMN_noPCA_randomParam/ACC_test_3_5_28x28_N_1000_seed')\n",
    "ACCpcaRand_aver,ACCpcaRand_err,gatesPCA,evalPCA = readRandom(10,4,\n",
    "\t'Data_QNN/logLossMN_randomParamMulti/ACC_test_10d_11552_')\n",
    "\n",
    "\n",
    "\n",
    "fig=plt.figure(figsize=(11.69*0.4,8.27*0.38)).gca()\n",
    "\n",
    "ax1 = plt.subplot(1,1,1)\n",
    "\n",
    "ax1.plot(evalLogMnistPCA[:55],ACCaverLogMnistPCA[:55]*100,'-',color='tab:purple',label=r'\\textit{MNIST PCA}')\n",
    "ax1.plot(evalLogMnist35_7[:55],ACCaverLogMnist35_7[:55]*100,'-',color='lightgreen',label=r'\\textit{MNIST} $7\\times7$')\n",
    "ax1.plot(evalLogMnist35_14[:55],ACCaverLogMnist35_14[:55]*100,'-',color='tab:green',label=r'\\textit{MNIST} $14\\times14$')\n",
    "ax1.plot(evalLogMnist35_28[:55],ACCaverLogMnist35_28[:55]*100,'-',color='darkgreen',label=r'\\textit{MNIST} $28\\times28$')\n",
    "\n",
    "ax1.plot(evalPCA,ACCpcaRand_aver*100,'--',color='tab:purple')\n",
    "ax1.plot(eval7,ACC7rand_aver*100,'--',color='lightgreen')\n",
    "ax1.plot(eval14,ACC14rand_aver*100,'--',color='tab:green')\n",
    "ax1.plot(eval28,ACC28rand_aver*100,'--',color='darkgreen')\n",
    "\n",
    "\n",
    "ax1.fill_between(evalPCA,(ACCpcaRand_aver+ACCpcaRand_err)*100,(ACCpcaRand_aver-ACCpcaRand_err)*100,\n",
    "\tcolor='tab:purple',alpha=0.2)\n",
    "ax1.fill_between(eval7,(ACC7rand_aver+ACC7rand_err)*100,(ACC7rand_aver-ACC7rand_err)*100,\n",
    "\tcolor='lightgreen',alpha=0.2)\n",
    "ax1.fill_between(eval14,(ACC14rand_aver+ACC14rand_err)*100,(ACC14rand_aver-ACC14rand_err)*100,\n",
    "\tcolor='tab:green',alpha=0.2)\n",
    "ax1.fill_between(eval28,(ACC28rand_aver+ACC28rand_err)*100,(ACC28rand_aver-ACC28rand_err)*100,\n",
    "\tcolor='darkgreen',alpha=0.2)\n",
    "\n",
    "ax1.plot([40,40],[0.8*100,1*100],color='black')\n",
    "ax1.text(45,1*100,'$n_{\\mathrm{gate}}=20$')\n",
    "\n",
    "print(ACCpcaRand_aver[:5])\n",
    "ax1.set_ylim(0.17*100,1.05*100)\n",
    "ax1.set_xlim(1,2e4)\n",
    "\n",
    "from matplotlib.lines import Line2D\n",
    "handles, labels = plt.gca().get_legend_handles_labels()\n",
    "line1 = Line2D([0], [0],linestyle='-', label='Q-FLAIR', color='black')\n",
    "line2 = Line2D([0], [0],linestyle='--', label='traditional', color='black')\n",
    "handles.extend([line1,line2])\n",
    "\n",
    "\n",
    "legend=ax1.legend(handles=[handles[0],handles[1],handles[4],handles[2],handles[3],handles[5]],\n",
    "                    ncol=2)#,fontsize='small')\n",
    "\n",
    "ax1.set_ylabel('accuracy [\\%]',fontsize='medium')\n",
    "ax1.set_xlabel('relative number of evaluations',fontsize='medium')\n",
    "\n",
    "fig.xaxis.set_major_locator(MaxNLocator(integer=True))\n",
    "\n",
    "ax1.set_xscale('log')\n",
    "\n",
    "plt.tight_layout()\n",
    "plt.savefig('Acc_MNIST-MNISTpca_evaluations_paper.pdf')\n",
    "plt.show()"
   ]
  },
  {
   "cell_type": "code",
   "execution_count": null,
   "id": "ac60920f",
   "metadata": {
    "id": "ac60920f"
   },
   "outputs": [],
   "source": []
  }
 ],
 "metadata": {
  "colab": {
   "provenance": []
  },
  "kernelspec": {
   "display_name": "Python 3 (ipykernel)",
   "language": "python",
   "name": "python3"
  },
  "language_info": {
   "codemirror_mode": {
    "name": "ipython",
    "version": 3
   },
   "file_extension": ".py",
   "mimetype": "text/x-python",
   "name": "python",
   "nbconvert_exporter": "python",
   "pygments_lexer": "ipython3",
   "version": "3.10.12"
  }
 },
 "nbformat": 4,
 "nbformat_minor": 5
}
